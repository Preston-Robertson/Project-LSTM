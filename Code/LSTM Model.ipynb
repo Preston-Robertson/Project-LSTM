{
 "cells": [
  {
   "cell_type": "markdown",
   "id": "a659f44a",
   "metadata": {},
   "source": [
    "# IE 8990 Course Project"
   ]
  },
  {
   "cell_type": "markdown",
   "id": "a179d2f3",
   "metadata": {},
   "source": [
    "## Importing library"
   ]
  },
  {
   "cell_type": "code",
   "execution_count": 1,
   "id": "f4604810",
   "metadata": {},
   "outputs": [],
   "source": [
    "# General Libraries #########################\n",
    "\n",
    "import numpy as np\n",
    "import pandas as pd\n",
    "import tensorflow as tf\n",
    "from tensorflow import keras\n",
    "from tensorflow.keras import layers\n",
    "import matplotlib.pyplot as plt\n"
   ]
  },
  {
   "cell_type": "code",
   "execution_count": null,
   "id": "628ba55a",
   "metadata": {},
   "outputs": [],
   "source": []
  },
  {
   "cell_type": "code",
   "execution_count": 2,
   "id": "7f9d3927",
   "metadata": {},
   "outputs": [],
   "source": [
    "# Loading GPU ##############################\n",
    "\n",
    "import os\n",
    "\n",
    "os.environ[\"TF_CPP_MIN_LOG_LEVEL\"] = \"2\"\n",
    "\n",
    "physical_devices = tf.config.list_physical_devices(\"GPU\")\n",
    "tf.config.experimental.set_memory_growth(physical_devices[0], True)\n"
   ]
  },
  {
   "cell_type": "markdown",
   "id": "bc2f5ba2",
   "metadata": {},
   "source": [
    "## Custom Activation Function"
   ]
  },
  {
   "cell_type": "code",
   "execution_count": 3,
   "id": "5ac93591",
   "metadata": {},
   "outputs": [],
   "source": [
    "## Custom Activation Function\n",
    "\n",
    "from tensorflow.keras import backend as K\n",
    "\n",
    "def Swish(inputs):\n",
    "    return inputs*K.sigmoid(inputs)\n",
    "    #return K.maximum(inputs,0)\n",
    "    #return K.minimum(K.maximum((K.sign(inputs)*K.pow(K.abs(inputs),1/3)),0),\n",
    "    #inputs*K.sigmoid(inputs))\n",
    "    #return K.maximum(K.softsign(inputs),0) + K.minimum(inputs*K.sigmoid(inputs), \n",
    "    #0.05*x*K.sigmoid(inputs))\n",
    "\n",
    "\n",
    "def CustFunc(inputs,p=0.00):\n",
    "    return K.maximum(K.softsign(inputs),0) + K.minimum(inputs*K.sigmoid(inputs),\n",
    "                                                       p*inputs*K.sigmoid(inputs))\n",
    "    #return K.maximum(K.softsign(inputs),0) + K.minimum(inputs*K.sigmoid(inputs), 0)\n",
    "    \n",
    "def CustFunc05(inputs,p=0.05):\n",
    "    return K.maximum(K.softsign(inputs),0) + K.minimum(inputs*K.sigmoid(inputs),\n",
    "                                                       p*inputs*K.sigmoid(inputs))\n",
    "    #return K.maximum(K.softsign(inputs),0) + K.minimum(inputs*K.sigmoid(inputs), 0)\n",
    "def CustFunc15(inputs,p=0.15):\n",
    "    return K.maximum(K.softsign(inputs),0) + K.minimum(inputs*K.sigmoid(inputs),\n",
    "                                                       p*inputs*K.sigmoid(inputs))\n",
    "    #return K.maximum(K.softsign(inputs),0) + K.minimum(inputs*K.sigmoid(inputs), 0)\n",
    "def CustFunc25(inputs,p=0.25):\n",
    "    return K.maximum(K.softsign(inputs),0) + K.minimum(inputs*K.sigmoid(inputs),\n",
    "                                                       p*inputs*K.sigmoid(inputs))\n",
    "    #return K.maximum(K.softsign(inputs),0) + K.minimum(inputs*K.sigmoid(inputs), 0)\n",
    "def CustFunc35(inputs,p=0.35):\n",
    "    return K.maximum(K.softsign(inputs),0) + K.minimum(inputs*K.sigmoid(inputs),\n",
    "                                                       p*inputs*K.sigmoid(inputs))\n",
    "    #return K.maximum(K.softsign(inputs),0) + K.minimum(inputs*K.sigmoid(inputs), 0)\n",
    "def CustFunc45(inputs,p=0.45):\n",
    "    return K.maximum(K.softsign(inputs),0) + K.minimum(inputs*K.sigmoid(inputs),\n",
    "                                                       p*inputs*K.sigmoid(inputs))\n",
    "    #return K.maximum(K.softsign(inputs),0) + K.minimum(inputs*K.sigmoid(inputs), 0)\n",
    "\n",
    "    \n",
    "def CustFunc1(inputs):\n",
    "    #return K.maximum(K.softsign(inputs),0) + K.minimum(inputs*K.sigmoid(inputs),\n",
    "    #0.05*inputs*K.sigmoid(inputs))\n",
    "    return K.maximum(K.softsign(inputs),0) + K.minimum(inputs*K.sigmoid(inputs), 0)\n"
   ]
  },
  {
   "cell_type": "code",
   "execution_count": 4,
   "id": "8661b9c1",
   "metadata": {},
   "outputs": [],
   "source": [
    "# Plotting the Custom Function\n",
    "\n",
    "\n",
    "### Setting the Coordinate Space\n",
    "\n",
    "x = np.linspace(-5, 5, 100)"
   ]
  },
  {
   "cell_type": "code",
   "execution_count": 5,
   "id": "e4531a0d",
   "metadata": {},
   "outputs": [
    {
     "data": {
      "image/png": "[encoded data removed]",
      "text/plain": [
       "<Figure size 432x288 with 1 Axes>"
      ]
     },
     "metadata": {
      "needs_background": "light"
     },
     "output_type": "display_data"
    }
   ],
   "source": [
    "### Several Combinations of Mixed Function\n",
    "\n",
    "X = [0, .1, .25,.33,.5,.67,.75,.90,1]\n",
    "\n",
    "for i in X: \n",
    "    plt.plot(x,CustFunc(x,i), label=\"p = {}\".format(i))\n",
    "    \n",
    "plt.legend()\n",
    "plt.show()"
   ]
  },
  {
   "cell_type": "markdown",
   "id": "cc4422ad",
   "metadata": {},
   "source": [
    "## Importing Data"
   ]
  },
  {
   "cell_type": "code",
   "execution_count": 6,
   "id": "54fb0012",
   "metadata": {},
   "outputs": [],
   "source": [
    "# Loading Datasets ########################\n",
    "\n",
    "from tensorflow.keras.datasets import mnist"
   ]
  },
  {
   "cell_type": "code",
   "execution_count": 7,
   "id": "c9ef8c06",
   "metadata": {},
   "outputs": [],
   "source": [
    "# Setting the training and test variables\n",
    "\n",
    "## This loads the data row by row to make it a time series based dataset.\n",
    "\n",
    "(x_train, y_train), (x_test, y_test) = mnist.load_data()\n",
    "x_train = x_train.astype(\"float32\")/255.0\n",
    "x_test = x_test.astype(\"float32\")/255.0"
   ]
  },
  {
   "cell_type": "markdown",
   "id": "c6bbd646",
   "metadata": {},
   "source": [
    "## LSTM Model"
   ]
  },
  {
   "cell_type": "markdown",
   "id": "665add5b",
   "metadata": {},
   "source": [
    "### Base Model"
   ]
  },
  {
   "cell_type": "code",
   "execution_count": 8,
   "id": "103bb62d",
   "metadata": {},
   "outputs": [
    {
     "name": "stdout",
     "output_type": "stream",
     "text": [
      "Model: \"sequential\"\n",
      "_________________________________________________________________\n",
      " Layer (type)                Output Shape              Param #   \n",
      "=================================================================\n",
      " lstm (LSTM)                 (None, None, 256)         291840    \n",
      "                                                                 \n",
      " lstm_1 (LSTM)               (None, 256)               525312    \n",
      "                                                                 \n",
      " dense (Dense)               (None, 10)                2570      \n",
      "                                                                 \n",
      "=================================================================\n",
      "Total params: 819,722\n",
      "Trainable params: 819,722\n",
      "Non-trainable params: 0\n",
      "_________________________________________________________________\n",
      "None\n"
     ]
    }
   ],
   "source": [
    "# Making the model\n",
    "\n",
    "\n",
    "# Input Layer\n",
    "model = keras.Sequential()\n",
    "model.add(keras.Input(shape = (None, 28))) #28 pixels per time step\n",
    "\n",
    "# Hidden Layers\n",
    "model.add(\n",
    "    layers.LSTM(256, return_sequences = True, activation = 'tanh', \n",
    "                recurrent_activation='sigmoid'))\n",
    "model.add(\n",
    "    layers.LSTM(256, activation = 'tanh',recurrent_activation='sigmoid'))\n",
    "\n",
    "# Output Layer\n",
    "model.add(layers.Dense(10))\n",
    "\n",
    "# Model Summary\n",
    "print(model.summary())"
   ]
  },
  {
   "cell_type": "markdown",
   "id": "c4f7645a",
   "metadata": {},
   "source": [
    "### Reference for LSTM Model\n",
    "\n",
    "def __init__(self,\n",
    "               units,\n",
    "               activation='tanh',\n",
    "               recurrent_activation='sigmoid',\n",
    "               use_bias=True,\n",
    "               kernel_initializer='glorot_uniform',\n",
    "               recurrent_initializer='orthogonal',\n",
    "               bias_initializer='zeros',\n",
    "               unit_forget_bias=True,\n",
    "               kernel_regularizer=None,\n",
    "               recurrent_regularizer=None,\n",
    "               bias_regularizer=None,\n",
    "               kernel_constraint=None,\n",
    "               recurrent_constraint=None,\n",
    "               bias_constraint=None,\n",
    "               dropout=0.,\n",
    "               recurrent_dropout=0.,\n",
    "               *'*kwargs):\n",
    "    super(LSTMCell, self).__init__(\n",
    "        units,\n",
    "        activation=activation,\n",
    "        recurrent_activation=recurrent_activation,\n",
    "        use_bias=use_bias,\n",
    "        kernel_initializer=kernel_initializer,\n",
    "        recurrent_initializer=recurrent_initializer,\n",
    "        bias_initializer=bias_initializer,\n",
    "        unit_forget_bias=unit_forget_bias,\n",
    "        kernel_regularizer=kernel_regularizer,\n",
    "        recurrent_regularizer=recurrent_regularizer,\n",
    "        bias_regularizer=bias_regularizer,\n",
    "        kernel_constraint=kernel_constraint,\n",
    "        recurrent_constraint=recurrent_constraint,\n",
    "        bias_constraint=bias_constraint,\n",
    "        dropout=dropout,\n",
    "        recurrent_dropout=recurrent_dropout,\n",
    "        implementation=kwargs.pop('implementation', 2),\n",
    "        **kwargs)"
   ]
  },
  {
   "cell_type": "code",
   "execution_count": 9,
   "id": "084669b3",
   "metadata": {},
   "outputs": [],
   "source": [
    "# Compiling the Model\n",
    "\n",
    "\n",
    "model.compile(\n",
    "    loss = keras.losses.SparseCategoricalCrossentropy(from_logits=True),\n",
    "    optimizer = keras.optimizers.Adam(learning_rate=0.001),\n",
    "    metrics=['accuracy']\n",
    ")"
   ]
  },
  {
   "cell_type": "code",
   "execution_count": 10,
   "id": "420003a2",
   "metadata": {},
   "outputs": [
    {
     "name": "stdout",
     "output_type": "stream",
     "text": [
      "Epoch 1/10\n",
      "938/938 - 11s - loss: 0.3006 - accuracy: 0.9016 - 11s/epoch - 11ms/step\n",
      "Epoch 2/10\n",
      "938/938 - 8s - loss: 0.0846 - accuracy: 0.9749 - 8s/epoch - 8ms/step\n",
      "Epoch 3/10\n",
      "938/938 - 8s - loss: 0.0573 - accuracy: 0.9822 - 8s/epoch - 8ms/step\n",
      "Epoch 4/10\n",
      "938/938 - 8s - loss: 0.0440 - accuracy: 0.9862 - 8s/epoch - 8ms/step\n",
      "Epoch 5/10\n",
      "938/938 - 8s - loss: 0.0385 - accuracy: 0.9875 - 8s/epoch - 8ms/step\n",
      "Epoch 6/10\n",
      "938/938 - 8s - loss: 0.0323 - accuracy: 0.9900 - 8s/epoch - 8ms/step\n",
      "Epoch 7/10\n",
      "938/938 - 8s - loss: 0.0287 - accuracy: 0.9913 - 8s/epoch - 8ms/step\n",
      "Epoch 8/10\n",
      "938/938 - 8s - loss: 0.0228 - accuracy: 0.9929 - 8s/epoch - 8ms/step\n",
      "Epoch 9/10\n",
      "938/938 - 8s - loss: 0.0220 - accuracy: 0.9931 - 8s/epoch - 8ms/step\n",
      "Epoch 10/10\n",
      "938/938 - 8s - loss: 0.0199 - accuracy: 0.9939 - 8s/epoch - 8ms/step\n",
      "157/157 - 1s - loss: 0.0341 - accuracy: 0.9911 - 1s/epoch - 7ms/step\n"
     ]
    },
    {
     "data": {
      "text/plain": [
       "[0.03406180813908577, 0.991100013256073]"
      ]
     },
     "execution_count": 10,
     "metadata": {},
     "output_type": "execute_result"
    }
   ],
   "source": [
    "\n",
    "# Fitting the Model\n",
    "history = model.fit(x_train, y_train, batch_size = 64, epochs = 10, verbose = 2, )\n",
    "\n",
    "\n",
    "# Evaluate the Model\n",
    "\n",
    "model.evaluate(x_test, y_test, batch_size = 64, verbose = 2)"
   ]
  },
  {
   "cell_type": "code",
   "execution_count": 11,
   "id": "7cb1d92e",
   "metadata": {},
   "outputs": [
    {
     "data": {
      "image/png": "[encoded data removed]",
      "text/plain": [
       "<Figure size 432x288 with 1 Axes>"
      ]
     },
     "metadata": {
      "needs_background": "light"
     },
     "output_type": "display_data"
    }
   ],
   "source": [
    "loss_base = history.history['loss']\n",
    "acc_base = history.history['accuracy']\n",
    "epochs = range(1,11)\n",
    "plt.plot(epochs, loss_base, 'g', label='loss')\n",
    "plt.plot(epochs, acc_base, 'b', label='accuracy')\n",
    "plt.title('Loss and Accuracy')\n",
    "plt.xlabel('Epochs')\n",
    "plt.ylabel('Loss')\n",
    "plt.legend()\n",
    "plt.show()"
   ]
  },
  {
   "cell_type": "markdown",
   "id": "ddc0432f",
   "metadata": {},
   "source": [
    "### Squish Function"
   ]
  },
  {
   "cell_type": "code",
   "execution_count": 12,
   "id": "620d5305",
   "metadata": {},
   "outputs": [
    {
     "name": "stdout",
     "output_type": "stream",
     "text": [
      "WARNING:tensorflow:Layer lstm_2 will not use cuDNN kernels since it doesn't meet the criteria. It will use a generic GPU kernel as fallback when running on GPU.\n",
      "WARNING:tensorflow:Layer lstm_3 will not use cuDNN kernels since it doesn't meet the criteria. It will use a generic GPU kernel as fallback when running on GPU.\n",
      "Model: \"sequential_1\"\n",
      "_________________________________________________________________\n",
      " Layer (type)                Output Shape              Param #   \n",
      "=================================================================\n",
      " lstm_2 (LSTM)               (None, None, 256)         291840    \n",
      "                                                                 \n",
      " lstm_3 (LSTM)               (None, 256)               525312    \n",
      "                                                                 \n",
      " dense_1 (Dense)             (None, 10)                2570      \n",
      "                                                                 \n",
      "=================================================================\n",
      "Total params: 819,722\n",
      "Trainable params: 819,722\n",
      "Non-trainable params: 0\n",
      "_________________________________________________________________\n",
      "None\n"
     ]
    }
   ],
   "source": [
    "# Making the model\n",
    "\n",
    "\n",
    "# Input Layer\n",
    "modelAF = keras.Sequential()\n",
    "modelAF.add(keras.Input(shape = (None, 28))) #28 pixels per time step\n",
    "\n",
    "# Hidden Layers\n",
    "modelAF.add(\n",
    "    layers.LSTM(256, return_sequences = True, activation = CustFunc, \n",
    "                recurrent_activation='sigmoid'))\n",
    "modelAF.add(\n",
    "    layers.LSTM(256, activation = CustFunc,recurrent_activation='sigmoid'))\n",
    "\n",
    "# Output Layer\n",
    "modelAF.add(layers.Dense(10))\n",
    "\n",
    "# Model Summary\n",
    "print(modelAF.summary())"
   ]
  },
  {
   "cell_type": "code",
   "execution_count": 13,
   "id": "70c65154",
   "metadata": {},
   "outputs": [
    {
     "name": "stdout",
     "output_type": "stream",
     "text": [
      "Epoch 1/10\n",
      "938/938 - 274s - loss: 0.3854 - accuracy: 0.8730 - 274s/epoch - 292ms/step\n",
      "Epoch 2/10\n",
      "938/938 - 271s - loss: 0.1010 - accuracy: 0.9692 - 271s/epoch - 289ms/step\n",
      "Epoch 3/10\n",
      "938/938 - 272s - loss: 0.0674 - accuracy: 0.9796 - 272s/epoch - 290ms/step\n",
      "Epoch 4/10\n",
      "938/938 - 272s - loss: 0.0510 - accuracy: 0.9846 - 272s/epoch - 290ms/step\n",
      "Epoch 5/10\n",
      "938/938 - 271s - loss: 0.0425 - accuracy: 0.9866 - 271s/epoch - 289ms/step\n",
      "Epoch 6/10\n",
      "938/938 - 272s - loss: 0.0340 - accuracy: 0.9896 - 272s/epoch - 290ms/step\n",
      "Epoch 7/10\n",
      "938/938 - 273s - loss: 0.0303 - accuracy: 0.9905 - 273s/epoch - 291ms/step\n",
      "Epoch 8/10\n",
      "938/938 - 271s - loss: 0.0246 - accuracy: 0.9919 - 271s/epoch - 289ms/step\n",
      "Epoch 9/10\n",
      "938/938 - 272s - loss: 0.0220 - accuracy: 0.9928 - 272s/epoch - 290ms/step\n",
      "Epoch 10/10\n",
      "938/938 - 276s - loss: 0.0212 - accuracy: 0.9932 - 276s/epoch - 294ms/step\n",
      "157/157 - 9s - loss: 0.0380 - accuracy: 0.9887 - 9s/epoch - 56ms/step\n"
     ]
    },
    {
     "data": {
      "text/plain": [
       "[0.0379953570663929, 0.9886999726295471]"
      ]
     },
     "execution_count": 13,
     "metadata": {},
     "output_type": "execute_result"
    }
   ],
   "source": [
    "# Compiling the Model\n",
    "\n",
    "\n",
    "modelAF.compile(\n",
    "    loss = keras.losses.SparseCategoricalCrossentropy(from_logits=True),\n",
    "    optimizer = keras.optimizers.Adam(learning_rate=0.001),\n",
    "    metrics=['accuracy']\n",
    ")\n",
    "\n",
    "\n",
    "# Fitting the Model\n",
    "\n",
    "history_AF = modelAF.fit(x_train, y_train, batch_size = 64, epochs = 10, verbose = 2)\n",
    "\n",
    "\n",
    "# Evaluate the Model\n",
    "\n",
    "modelAF.evaluate(x_test, y_test, batch_size = 64, verbose = 2)"
   ]
  },
  {
   "cell_type": "code",
   "execution_count": 14,
   "id": "94869426",
   "metadata": {},
   "outputs": [],
   "source": [
    "loss_AF = history_AF.history['loss']\n",
    "acc_AF = history_AF.history['accuracy']"
   ]
  },
  {
   "cell_type": "code",
   "execution_count": 15,
   "id": "31667e11",
   "metadata": {},
   "outputs": [
    {
     "name": "stdout",
     "output_type": "stream",
     "text": [
      "WARNING:tensorflow:Layer lstm_4 will not use cuDNN kernels since it doesn't meet the criteria. It will use a generic GPU kernel as fallback when running on GPU.\n",
      "WARNING:tensorflow:Layer lstm_5 will not use cuDNN kernels since it doesn't meet the criteria. It will use a generic GPU kernel as fallback when running on GPU.\n",
      "Model: \"sequential_2\"\n",
      "_________________________________________________________________\n",
      " Layer (type)                Output Shape              Param #   \n",
      "=================================================================\n",
      " lstm_4 (LSTM)               (None, None, 256)         291840    \n",
      "                                                                 \n",
      " lstm_5 (LSTM)               (None, 256)               525312    \n",
      "                                                                 \n",
      " dense_2 (Dense)             (None, 10)                2570      \n",
      "                                                                 \n",
      "=================================================================\n",
      "Total params: 819,722\n",
      "Trainable params: 819,722\n",
      "Non-trainable params: 0\n",
      "_________________________________________________________________\n",
      "None\n"
     ]
    }
   ],
   "source": [
    "# Making the model\n",
    "\n",
    "\n",
    "# Input Layer\n",
    "modelRAF = keras.Sequential()\n",
    "modelRAF.add(keras.Input(shape = (None, 28))) #28 pixels per time step\n",
    "\n",
    "# Hidden Layers\n",
    "modelRAF.add(\n",
    "    layers.LSTM(256, return_sequences = True, activation = 'tanh', \n",
    "                recurrent_activation= CustFunc))\n",
    "modelRAF.add(\n",
    "    layers.LSTM(256, activation = 'tanh',recurrent_activation = CustFunc))\n",
    "\n",
    "# Output Layer\n",
    "modelRAF.add(layers.Dense(10))\n",
    "\n",
    "# Model Summary\n",
    "print(modelRAF.summary())"
   ]
  },
  {
   "cell_type": "code",
   "execution_count": 16,
   "id": "cf5b999c",
   "metadata": {},
   "outputs": [
    {
     "name": "stdout",
     "output_type": "stream",
     "text": [
      "Epoch 1/10\n",
      "938/938 - 361s - loss: 2.3016 - accuracy: 0.1116 - 361s/epoch - 385ms/step\n",
      "Epoch 2/10\n",
      "938/938 - 356s - loss: 0.4030 - accuracy: 0.8627 - 356s/epoch - 380ms/step\n",
      "Epoch 3/10\n",
      "938/938 - 358s - loss: 0.0854 - accuracy: 0.9752 - 358s/epoch - 382ms/step\n",
      "Epoch 4/10\n",
      "938/938 - 354s - loss: 0.0565 - accuracy: 0.9833 - 354s/epoch - 378ms/step\n",
      "Epoch 5/10\n",
      "938/938 - 353s - loss: 0.0438 - accuracy: 0.9871 - 353s/epoch - 376ms/step\n",
      "Epoch 6/10\n",
      "938/938 - 356s - loss: 0.0368 - accuracy: 0.9888 - 356s/epoch - 379ms/step\n",
      "Epoch 7/10\n",
      "938/938 - 357s - loss: 0.0293 - accuracy: 0.9912 - 357s/epoch - 381ms/step\n",
      "Epoch 8/10\n",
      "938/938 - 360s - loss: 0.0285 - accuracy: 0.9912 - 360s/epoch - 384ms/step\n",
      "Epoch 9/10\n",
      "938/938 - 360s - loss: 0.0220 - accuracy: 0.9934 - 360s/epoch - 384ms/step\n",
      "Epoch 10/10\n",
      "938/938 - 356s - loss: 0.0182 - accuracy: 0.9948 - 356s/epoch - 379ms/step\n",
      "157/157 - 12s - loss: 0.0389 - accuracy: 0.9898 - 12s/epoch - 75ms/step\n"
     ]
    },
    {
     "data": {
      "text/plain": [
       "[0.03892815113067627, 0.989799976348877]"
      ]
     },
     "execution_count": 16,
     "metadata": {},
     "output_type": "execute_result"
    }
   ],
   "source": [
    "# Compiling the Model\n",
    "\n",
    "\n",
    "modelRAF.compile(\n",
    "    loss = keras.losses.SparseCategoricalCrossentropy(from_logits=True),\n",
    "    optimizer = keras.optimizers.Adam(learning_rate=0.001),\n",
    "    metrics=['accuracy']\n",
    ")\n",
    "\n",
    "# Fitting the Model\n",
    "\n",
    "history_RAF = modelRAF.fit(x_train, y_train, batch_size = 64, epochs = 10, verbose = 2)\n",
    "\n",
    "\n",
    "# Evaluate the Model\n",
    "\n",
    "modelRAF.evaluate(x_test, y_test, batch_size = 64, verbose = 2)"
   ]
  },
  {
   "cell_type": "code",
   "execution_count": 17,
   "id": "f793cd04",
   "metadata": {},
   "outputs": [],
   "source": [
    "loss_RAF = history_RAF.history['loss']\n",
    "acc_RAF = history_RAF.history['accuracy']"
   ]
  },
  {
   "cell_type": "markdown",
   "id": "010a74f7",
   "metadata": {},
   "source": [
    "### ReLU function"
   ]
  },
  {
   "cell_type": "code",
   "execution_count": 18,
   "id": "06dc3f54",
   "metadata": {},
   "outputs": [
    {
     "name": "stdout",
     "output_type": "stream",
     "text": [
      "WARNING:tensorflow:Layer lstm_6 will not use cuDNN kernels since it doesn't meet the criteria. It will use a generic GPU kernel as fallback when running on GPU.\n",
      "WARNING:tensorflow:Layer lstm_7 will not use cuDNN kernels since it doesn't meet the criteria. It will use a generic GPU kernel as fallback when running on GPU.\n",
      "Model: \"sequential_3\"\n",
      "_________________________________________________________________\n",
      " Layer (type)                Output Shape              Param #   \n",
      "=================================================================\n",
      " lstm_6 (LSTM)               (None, None, 256)         291840    \n",
      "                                                                 \n",
      " lstm_7 (LSTM)               (None, 256)               525312    \n",
      "                                                                 \n",
      " dense_3 (Dense)             (None, 10)                2570      \n",
      "                                                                 \n",
      "=================================================================\n",
      "Total params: 819,722\n",
      "Trainable params: 819,722\n",
      "Non-trainable params: 0\n",
      "_________________________________________________________________\n",
      "None\n"
     ]
    }
   ],
   "source": [
    "# Making the model\n",
    "\n",
    "\n",
    "# Input Layer\n",
    "modelR = keras.Sequential()\n",
    "modelR.add(keras.Input(shape = (None, 28))) #28 pixels per time step\n",
    "\n",
    "# Hidden Layers\n",
    "modelR.add(\n",
    "    layers.LSTM(256, return_sequences = True, activation = 'relu', \n",
    "                recurrent_activation='sigmoid'))\n",
    "modelR.add(\n",
    "    layers.LSTM(256, activation = 'relu',recurrent_activation='sigmoid'))\n",
    "\n",
    "# Output Layer\n",
    "modelR.add(layers.Dense(10))\n",
    "\n",
    "# Model Summary\n",
    "print(modelR.summary())"
   ]
  },
  {
   "cell_type": "code",
   "execution_count": 19,
   "id": "8db5c542",
   "metadata": {},
   "outputs": [
    {
     "name": "stdout",
     "output_type": "stream",
     "text": [
      "Epoch 1/10\n",
      "938/938 - 136s - loss: 0.4601 - accuracy: 0.8533 - 136s/epoch - 145ms/step\n",
      "Epoch 2/10\n",
      "938/938 - 135s - loss: 0.1070 - accuracy: 0.9677 - 135s/epoch - 144ms/step\n",
      "Epoch 3/10\n",
      "938/938 - 135s - loss: 0.0706 - accuracy: 0.9786 - 135s/epoch - 144ms/step\n",
      "Epoch 4/10\n",
      "938/938 - 135s - loss: 0.0549 - accuracy: 0.9833 - 135s/epoch - 144ms/step\n",
      "Epoch 5/10\n",
      "938/938 - 134s - loss: 0.0472 - accuracy: 0.9854 - 134s/epoch - 143ms/step\n",
      "Epoch 6/10\n",
      "938/938 - 133s - loss: 0.0409 - accuracy: 0.9873 - 133s/epoch - 142ms/step\n",
      "Epoch 7/10\n",
      "938/938 - 134s - loss: 0.0343 - accuracy: 0.9894 - 134s/epoch - 143ms/step\n",
      "Epoch 8/10\n",
      "938/938 - 135s - loss: 0.0312 - accuracy: 0.9906 - 135s/epoch - 144ms/step\n",
      "Epoch 9/10\n",
      "938/938 - 134s - loss: 0.0257 - accuracy: 0.9920 - 134s/epoch - 142ms/step\n",
      "Epoch 10/10\n",
      "938/938 - 134s - loss: 0.0286 - accuracy: 0.9911 - 134s/epoch - 143ms/step\n",
      "157/157 - 5s - loss: 0.0421 - accuracy: 0.9872 - 5s/epoch - 29ms/step\n"
     ]
    },
    {
     "data": {
      "text/plain": [
       "[0.042086515575647354, 0.9872000217437744]"
      ]
     },
     "execution_count": 19,
     "metadata": {},
     "output_type": "execute_result"
    }
   ],
   "source": [
    "# Compiling the Model\n",
    "\n",
    "\n",
    "modelR.compile(\n",
    "    loss = keras.losses.SparseCategoricalCrossentropy(from_logits=True),\n",
    "    optimizer = keras.optimizers.Adam(learning_rate=0.001),\n",
    "    metrics=['accuracy']\n",
    ")\n",
    "\n",
    "# Fitting the Model\n",
    "\n",
    "historyR = modelR.fit(x_train, y_train, batch_size = 64, epochs = 10, verbose = 2)\n",
    "\n",
    "\n",
    "# Evaluate the Model\n",
    "\n",
    "modelR.evaluate(x_test, y_test, batch_size = 64, verbose = 2)"
   ]
  },
  {
   "cell_type": "code",
   "execution_count": 20,
   "id": "a7a4153a",
   "metadata": {},
   "outputs": [],
   "source": [
    "loss_R = historyR.history['loss']\n",
    "acc_R = historyR.history['accuracy']"
   ]
  },
  {
   "cell_type": "code",
   "execution_count": 21,
   "id": "a4314a25",
   "metadata": {},
   "outputs": [
    {
     "name": "stdout",
     "output_type": "stream",
     "text": [
      "WARNING:tensorflow:Layer lstm_8 will not use cuDNN kernels since it doesn't meet the criteria. It will use a generic GPU kernel as fallback when running on GPU.\n",
      "WARNING:tensorflow:Layer lstm_9 will not use cuDNN kernels since it doesn't meet the criteria. It will use a generic GPU kernel as fallback when running on GPU.\n",
      "Model: \"sequential_4\"\n",
      "_________________________________________________________________\n",
      " Layer (type)                Output Shape              Param #   \n",
      "=================================================================\n",
      " lstm_8 (LSTM)               (None, None, 256)         291840    \n",
      "                                                                 \n",
      " lstm_9 (LSTM)               (None, 256)               525312    \n",
      "                                                                 \n",
      " dense_4 (Dense)             (None, 10)                2570      \n",
      "                                                                 \n",
      "=================================================================\n",
      "Total params: 819,722\n",
      "Trainable params: 819,722\n",
      "Non-trainable params: 0\n",
      "_________________________________________________________________\n",
      "None\n"
     ]
    }
   ],
   "source": [
    "# Making the model\n",
    "\n",
    "\n",
    "# Input Layer\n",
    "modelRR = keras.Sequential()\n",
    "modelRR.add(keras.Input(shape = (None, 28))) #28 pixels per time step\n",
    "\n",
    "# Hidden Layers\n",
    "modelRR.add(\n",
    "    layers.LSTM(256, return_sequences = True, activation = 'tanh', \n",
    "                recurrent_activation='relu'))\n",
    "modelRR.add(\n",
    "    layers.LSTM(256, activation = 'tanh',recurrent_activation='relu'))\n",
    "\n",
    "# Output Layer\n",
    "modelRR.add(layers.Dense(10))\n",
    "\n",
    "# Model Summary\n",
    "print(modelRR.summary())"
   ]
  },
  {
   "cell_type": "code",
   "execution_count": 22,
   "id": "d0fa72c5",
   "metadata": {},
   "outputs": [
    {
     "name": "stdout",
     "output_type": "stream",
     "text": [
      "Epoch 1/10\n",
      "938/938 - 136s - loss: 0.5441 - accuracy: 0.8208 - 136s/epoch - 145ms/step\n",
      "Epoch 2/10\n",
      "938/938 - 134s - loss: 0.1337 - accuracy: 0.9606 - 134s/epoch - 143ms/step\n",
      "Epoch 3/10\n",
      "938/938 - 135s - loss: 0.1182 - accuracy: 0.9665 - 135s/epoch - 143ms/step\n",
      "Epoch 4/10\n",
      "938/938 - 133s - loss: 0.0878 - accuracy: 0.9745 - 133s/epoch - 142ms/step\n",
      "Epoch 5/10\n",
      "938/938 - 135s - loss: 0.0829 - accuracy: 0.9765 - 135s/epoch - 143ms/step\n",
      "Epoch 6/10\n",
      "938/938 - 133s - loss: 0.0689 - accuracy: 0.9804 - 133s/epoch - 141ms/step\n",
      "Epoch 7/10\n",
      "938/938 - 133s - loss: 0.0645 - accuracy: 0.9811 - 133s/epoch - 142ms/step\n",
      "Epoch 8/10\n",
      "938/938 - 134s - loss: 0.0570 - accuracy: 0.9837 - 134s/epoch - 143ms/step\n",
      "Epoch 9/10\n",
      "938/938 - 134s - loss: 0.0711 - accuracy: 0.9797 - 134s/epoch - 143ms/step\n",
      "Epoch 10/10\n",
      "938/938 - 135s - loss: 0.0584 - accuracy: 0.9828 - 135s/epoch - 144ms/step\n",
      "157/157 - 5s - loss: 0.1710 - accuracy: 0.9425 - 5s/epoch - 29ms/step\n"
     ]
    },
    {
     "data": {
      "text/plain": [
       "[0.17101824283599854, 0.9424999952316284]"
      ]
     },
     "execution_count": 22,
     "metadata": {},
     "output_type": "execute_result"
    }
   ],
   "source": [
    "# Compiling the Model\n",
    "\n",
    "\n",
    "modelRR.compile(\n",
    "    loss = keras.losses.SparseCategoricalCrossentropy(from_logits=True),\n",
    "    optimizer = keras.optimizers.Adam(learning_rate=0.001),\n",
    "    metrics=['accuracy']\n",
    ")\n",
    "\n",
    "# Fitting the Model\n",
    "\n",
    "historyRR = modelRR.fit(x_train, y_train, batch_size = 64, epochs = 10, verbose = 2)\n",
    "\n",
    "\n",
    "# Evaluate the Model\n",
    "\n",
    "modelRR.evaluate(x_test, y_test, batch_size = 64, verbose = 2)"
   ]
  },
  {
   "cell_type": "code",
   "execution_count": 23,
   "id": "3c0e99ae",
   "metadata": {},
   "outputs": [],
   "source": [
    "loss_RR = historyRR.history['loss']\n",
    "acc_RR = historyRR.history['accuracy']"
   ]
  },
  {
   "cell_type": "markdown",
   "id": "88639803",
   "metadata": {},
   "source": [
    "### Swish Function"
   ]
  },
  {
   "cell_type": "code",
   "execution_count": 25,
   "id": "d48f85ec",
   "metadata": {},
   "outputs": [
    {
     "name": "stdout",
     "output_type": "stream",
     "text": [
      "WARNING:tensorflow:Layer lstm_10 will not use cuDNN kernels since it doesn't meet the criteria. It will use a generic GPU kernel as fallback when running on GPU.\n",
      "WARNING:tensorflow:Layer lstm_11 will not use cuDNN kernels since it doesn't meet the criteria. It will use a generic GPU kernel as fallback when running on GPU.\n",
      "Model: \"sequential_5\"\n",
      "_________________________________________________________________\n",
      " Layer (type)                Output Shape              Param #   \n",
      "=================================================================\n",
      " lstm_10 (LSTM)              (None, None, 256)         291840    \n",
      "                                                                 \n",
      " lstm_11 (LSTM)              (None, 256)               525312    \n",
      "                                                                 \n",
      " dense_5 (Dense)             (None, 10)                2570      \n",
      "                                                                 \n",
      "=================================================================\n",
      "Total params: 819,722\n",
      "Trainable params: 819,722\n",
      "Non-trainable params: 0\n",
      "_________________________________________________________________\n",
      "None\n"
     ]
    }
   ],
   "source": [
    "# Making the model\n",
    "\n",
    "\n",
    "# Input Layer\n",
    "modelS = keras.Sequential()\n",
    "modelS.add(keras.Input(shape = (None, 28))) #28 pixels per time step\n",
    "\n",
    "# Hidden Layers\n",
    "modelS.add(\n",
    "    layers.LSTM(256, return_sequences = True, activation = Swish, \n",
    "                recurrent_activation='sigmoid'))\n",
    "modelS.add(\n",
    "    layers.LSTM(256, activation = Swish,recurrent_activation='sigmoid'))\n",
    "\n",
    "# Output Layer\n",
    "modelS.add(layers.Dense(10))\n",
    "\n",
    "# Model Summary\n",
    "print(modelS.summary())"
   ]
  },
  {
   "cell_type": "code",
   "execution_count": 26,
   "id": "847397df",
   "metadata": {},
   "outputs": [
    {
     "name": "stdout",
     "output_type": "stream",
     "text": [
      "Epoch 1/10\n",
      "938/938 - 170s - loss: 0.6607 - accuracy: 0.7753 - 170s/epoch - 182ms/step\n",
      "Epoch 2/10\n",
      "938/938 - 171s - loss: 0.1354 - accuracy: 0.9587 - 171s/epoch - 182ms/step\n",
      "Epoch 3/10\n",
      "938/938 - 171s - loss: 0.0820 - accuracy: 0.9744 - 171s/epoch - 183ms/step\n",
      "Epoch 4/10\n",
      "938/938 - 172s - loss: 0.0588 - accuracy: 0.9823 - 172s/epoch - 183ms/step\n",
      "Epoch 5/10\n",
      "938/938 - 170s - loss: 0.0455 - accuracy: 0.9854 - 170s/epoch - 181ms/step\n",
      "Epoch 6/10\n",
      "938/938 - 169s - loss: 0.0370 - accuracy: 0.9887 - 169s/epoch - 180ms/step\n",
      "Epoch 7/10\n",
      "938/938 - 173s - loss: 0.0334 - accuracy: 0.9897 - 173s/epoch - 184ms/step\n",
      "Epoch 8/10\n",
      "938/938 - 172s - loss: 0.0306 - accuracy: 0.9900 - 172s/epoch - 183ms/step\n",
      "Epoch 9/10\n",
      "938/938 - 174s - loss: 0.0238 - accuracy: 0.9926 - 174s/epoch - 186ms/step\n",
      "Epoch 10/10\n",
      "938/938 - 174s - loss: 0.0241 - accuracy: 0.9925 - 174s/epoch - 185ms/step\n",
      "157/157 - 5s - loss: 0.0365 - accuracy: 0.9882 - 5s/epoch - 33ms/step\n"
     ]
    },
    {
     "data": {
      "text/plain": [
       "[0.03652001544833183, 0.9882000088691711]"
      ]
     },
     "execution_count": 26,
     "metadata": {},
     "output_type": "execute_result"
    }
   ],
   "source": [
    "# Compiling the Model\n",
    "\n",
    "\n",
    "modelS.compile(\n",
    "    loss = keras.losses.SparseCategoricalCrossentropy(from_logits=True),\n",
    "    optimizer = keras.optimizers.Adam(learning_rate=0.001),\n",
    "    metrics=['accuracy']\n",
    ")\n",
    "\n",
    "# Fitting the Model\n",
    "\n",
    "historyS = modelS.fit(x_train, y_train, batch_size = 64, epochs = 10, verbose = 2)\n",
    "\n",
    "\n",
    "# Evaluate the Model\n",
    "\n",
    "modelS.evaluate(x_test, y_test, batch_size = 64, verbose = 2)"
   ]
  },
  {
   "cell_type": "code",
   "execution_count": 27,
   "id": "f2b136c7",
   "metadata": {},
   "outputs": [],
   "source": [
    "loss_S = historyS.history['loss']\n",
    "acc_S = historyS.history['accuracy']"
   ]
  },
  {
   "cell_type": "code",
   "execution_count": 28,
   "id": "18198c26",
   "metadata": {},
   "outputs": [
    {
     "name": "stdout",
     "output_type": "stream",
     "text": [
      "WARNING:tensorflow:Layer lstm_12 will not use cuDNN kernels since it doesn't meet the criteria. It will use a generic GPU kernel as fallback when running on GPU.\n",
      "WARNING:tensorflow:Layer lstm_13 will not use cuDNN kernels since it doesn't meet the criteria. It will use a generic GPU kernel as fallback when running on GPU.\n",
      "Model: \"sequential_6\"\n",
      "_________________________________________________________________\n",
      " Layer (type)                Output Shape              Param #   \n",
      "=================================================================\n",
      " lstm_12 (LSTM)              (None, None, 256)         291840    \n",
      "                                                                 \n",
      " lstm_13 (LSTM)              (None, 256)               525312    \n",
      "                                                                 \n",
      " dense_6 (Dense)             (None, 10)                2570      \n",
      "                                                                 \n",
      "=================================================================\n",
      "Total params: 819,722\n",
      "Trainable params: 819,722\n",
      "Non-trainable params: 0\n",
      "_________________________________________________________________\n",
      "None\n"
     ]
    }
   ],
   "source": [
    "# Making the model\n",
    "\n",
    "\n",
    "# Input Layer\n",
    "modelSR = keras.Sequential()\n",
    "modelSR.add(keras.Input(shape = (None, 28))) #28 pixels per time step\n",
    "\n",
    "# Hidden Layers\n",
    "modelSR.add(\n",
    "    layers.LSTM(256, return_sequences = True, activation = 'tanh', \n",
    "                recurrent_activation=Swish))\n",
    "modelSR.add(\n",
    "    layers.LSTM(256, activation = 'tanh',recurrent_activation=Swish))\n",
    "\n",
    "# Output Layer\n",
    "modelSR.add(layers.Dense(10))\n",
    "\n",
    "# Model Summary\n",
    "print(modelSR.summary())"
   ]
  },
  {
   "cell_type": "code",
   "execution_count": 29,
   "id": "304082b6",
   "metadata": {},
   "outputs": [
    {
     "name": "stdout",
     "output_type": "stream",
     "text": [
      "Epoch 1/10\n",
      "938/938 - 193s - loss: 2.1998 - accuracy: 0.1673 - 193s/epoch - 206ms/step\n",
      "Epoch 2/10\n",
      "938/938 - 191s - loss: 0.6255 - accuracy: 0.7884 - 191s/epoch - 204ms/step\n",
      "Epoch 3/10\n",
      "938/938 - 191s - loss: 0.2406 - accuracy: 0.9261 - 191s/epoch - 203ms/step\n",
      "Epoch 4/10\n",
      "938/938 - 193s - loss: 2.7624 - accuracy: 0.4051 - 193s/epoch - 206ms/step\n",
      "Epoch 5/10\n",
      "938/938 - 191s - loss: 1.9513 - accuracy: 0.3921 - 191s/epoch - 204ms/step\n",
      "Epoch 6/10\n",
      "938/938 - 189s - loss: 1.8397 - accuracy: 0.4491 - 189s/epoch - 201ms/step\n",
      "Epoch 7/10\n",
      "938/938 - 187s - loss: 1.7553 - accuracy: 0.4752 - 187s/epoch - 199ms/step\n",
      "Epoch 8/10\n",
      "938/938 - 187s - loss: 1.6859 - accuracy: 0.4886 - 187s/epoch - 199ms/step\n",
      "Epoch 9/10\n",
      "938/938 - 185s - loss: 1.8491 - accuracy: 0.4029 - 185s/epoch - 197ms/step\n",
      "Epoch 10/10\n",
      "938/938 - 189s - loss: 1.6941 - accuracy: 0.4744 - 189s/epoch - 201ms/step\n",
      "157/157 - 6s - loss: 1.5770 - accuracy: 0.4990 - 6s/epoch - 37ms/step\n"
     ]
    },
    {
     "data": {
      "text/plain": [
       "[1.5770384073257446, 0.49900001287460327]"
      ]
     },
     "execution_count": 29,
     "metadata": {},
     "output_type": "execute_result"
    }
   ],
   "source": [
    "# Compiling the Model\n",
    "\n",
    "\n",
    "modelSR.compile(\n",
    "    loss = keras.losses.SparseCategoricalCrossentropy(from_logits=True),\n",
    "    optimizer = keras.optimizers.Adam(learning_rate=0.001),\n",
    "    metrics=['accuracy']\n",
    ")\n",
    "\n",
    "# Fitting the Model\n",
    "\n",
    "historySR = modelSR.fit(x_train, y_train, batch_size = 64, epochs = 10, verbose = 2)\n",
    "\n",
    "\n",
    "# Evaluate the Model\n",
    "\n",
    "modelSR.evaluate(x_test, y_test, batch_size = 64, verbose = 2)"
   ]
  },
  {
   "cell_type": "code",
   "execution_count": 30,
   "id": "58b1eae7",
   "metadata": {},
   "outputs": [],
   "source": [
    "loss_SR = historySR.history['loss']\n",
    "acc_SR = historySR.history['accuracy']"
   ]
  },
  {
   "cell_type": "markdown",
   "id": "00dd747d",
   "metadata": {},
   "source": [
    "### SoftMax Function"
   ]
  },
  {
   "cell_type": "code",
   "execution_count": 31,
   "id": "722d48b0",
   "metadata": {},
   "outputs": [
    {
     "name": "stdout",
     "output_type": "stream",
     "text": [
      "WARNING:tensorflow:Layer lstm_14 will not use cuDNN kernels since it doesn't meet the criteria. It will use a generic GPU kernel as fallback when running on GPU.\n",
      "WARNING:tensorflow:Layer lstm_15 will not use cuDNN kernels since it doesn't meet the criteria. It will use a generic GPU kernel as fallback when running on GPU.\n",
      "Model: \"sequential_7\"\n",
      "_________________________________________________________________\n",
      " Layer (type)                Output Shape              Param #   \n",
      "=================================================================\n",
      " lstm_14 (LSTM)              (None, None, 256)         291840    \n",
      "                                                                 \n",
      " lstm_15 (LSTM)              (None, 256)               525312    \n",
      "                                                                 \n",
      " dense_7 (Dense)             (None, 10)                2570      \n",
      "                                                                 \n",
      "=================================================================\n",
      "Total params: 819,722\n",
      "Trainable params: 819,722\n",
      "Non-trainable params: 0\n",
      "_________________________________________________________________\n",
      "None\n"
     ]
    }
   ],
   "source": [
    "# Making the model\n",
    "\n",
    "\n",
    "# Input Layer\n",
    "modelSM = keras.Sequential()\n",
    "modelSM.add(keras.Input(shape = (None, 28))) #28 pixels per time step\n",
    "\n",
    "# Hidden Layers\n",
    "modelSM.add(\n",
    "    layers.LSTM(256, return_sequences = True, activation = 'softmax', \n",
    "                recurrent_activation='sigmoid'))\n",
    "modelSM.add(\n",
    "    layers.LSTM(256, activation = 'softmax',recurrent_activation='sigmoid'))\n",
    "\n",
    "# Output Layer\n",
    "modelSM.add(layers.Dense(10))\n",
    "\n",
    "# Model Summary\n",
    "print(modelSM.summary())"
   ]
  },
  {
   "cell_type": "code",
   "execution_count": 32,
   "id": "f4a69dc7",
   "metadata": {},
   "outputs": [
    {
     "name": "stdout",
     "output_type": "stream",
     "text": [
      "Epoch 1/10\n",
      "938/938 - 150s - loss: 2.3016 - accuracy: 0.1120 - 150s/epoch - 160ms/step\n",
      "Epoch 2/10\n",
      "938/938 - 145s - loss: 2.3013 - accuracy: 0.1124 - 145s/epoch - 155ms/step\n",
      "Epoch 3/10\n",
      "938/938 - 147s - loss: 2.3013 - accuracy: 0.1124 - 147s/epoch - 156ms/step\n",
      "Epoch 4/10\n",
      "938/938 - 145s - loss: 2.3013 - accuracy: 0.1124 - 145s/epoch - 154ms/step\n",
      "Epoch 5/10\n",
      "938/938 - 145s - loss: 2.3014 - accuracy: 0.1124 - 145s/epoch - 155ms/step\n",
      "Epoch 6/10\n",
      "938/938 - 145s - loss: 2.3014 - accuracy: 0.1124 - 145s/epoch - 155ms/step\n",
      "Epoch 7/10\n",
      "938/938 - 146s - loss: 2.3013 - accuracy: 0.1124 - 146s/epoch - 155ms/step\n",
      "Epoch 8/10\n",
      "938/938 - 146s - loss: 2.3014 - accuracy: 0.1124 - 146s/epoch - 156ms/step\n",
      "Epoch 9/10\n",
      "938/938 - 146s - loss: 2.3014 - accuracy: 0.1124 - 146s/epoch - 155ms/step\n",
      "Epoch 10/10\n",
      "938/938 - 148s - loss: 2.3014 - accuracy: 0.1124 - 148s/epoch - 157ms/step\n",
      "157/157 - 5s - loss: 2.3010 - accuracy: 0.1135 - 5s/epoch - 31ms/step\n"
     ]
    },
    {
     "data": {
      "text/plain": [
       "[2.301018714904785, 0.11349999904632568]"
      ]
     },
     "execution_count": 32,
     "metadata": {},
     "output_type": "execute_result"
    }
   ],
   "source": [
    "# Compiling the Model\n",
    "\n",
    "\n",
    "modelSM.compile(\n",
    "    loss = keras.losses.SparseCategoricalCrossentropy(from_logits=True),\n",
    "    optimizer = keras.optimizers.Adam(learning_rate=0.001),\n",
    "    metrics=['accuracy']\n",
    ")\n",
    "\n",
    "# Fitting the Model\n",
    "\n",
    "historySM = modelSM.fit(x_train, y_train, batch_size = 64, epochs = 10, verbose = 2)\n",
    "\n",
    "\n",
    "# Evaluate the Model\n",
    "\n",
    "modelSM.evaluate(x_test, y_test, batch_size = 64, verbose = 2)"
   ]
  },
  {
   "cell_type": "code",
   "execution_count": 33,
   "id": "de1c1420",
   "metadata": {},
   "outputs": [],
   "source": [
    "loss_SM = historySM.history['loss']\n",
    "acc_SM = historySM.history['accuracy']"
   ]
  },
  {
   "cell_type": "code",
   "execution_count": 34,
   "id": "c201d2af",
   "metadata": {},
   "outputs": [
    {
     "name": "stdout",
     "output_type": "stream",
     "text": [
      "WARNING:tensorflow:Layer lstm_16 will not use cuDNN kernels since it doesn't meet the criteria. It will use a generic GPU kernel as fallback when running on GPU.\n",
      "WARNING:tensorflow:Layer lstm_17 will not use cuDNN kernels since it doesn't meet the criteria. It will use a generic GPU kernel as fallback when running on GPU.\n",
      "Model: \"sequential_7\"\n",
      "_________________________________________________________________\n",
      " Layer (type)                Output Shape              Param #   \n",
      "=================================================================\n",
      " lstm_14 (LSTM)              (None, None, 256)         291840    \n",
      "                                                                 \n",
      " lstm_15 (LSTM)              (None, 256)               525312    \n",
      "                                                                 \n",
      " dense_7 (Dense)             (None, 10)                2570      \n",
      "                                                                 \n",
      "=================================================================\n",
      "Total params: 819,722\n",
      "Trainable params: 819,722\n",
      "Non-trainable params: 0\n",
      "_________________________________________________________________\n",
      "None\n"
     ]
    }
   ],
   "source": [
    "# Making the model\n",
    "\n",
    "\n",
    "# Input Layer\n",
    "modelSMR = keras.Sequential()\n",
    "modelSMR.add(keras.Input(shape = (None, 28))) #28 pixels per time step\n",
    "\n",
    "# Hidden Layers\n",
    "modelSMR.add(\n",
    "    layers.LSTM(256, return_sequences = True, activation = 'tanh', \n",
    "                recurrent_activation='softmax'))\n",
    "modelSMR.add(\n",
    "    layers.LSTM(256, activation = 'tanh',recurrent_activation='softmax'))\n",
    "\n",
    "# Output Layer\n",
    "modelSMR.add(layers.Dense(10))\n",
    "\n",
    "# Model Summary\n",
    "print(modelSM.summary())"
   ]
  },
  {
   "cell_type": "code",
   "execution_count": 35,
   "id": "77821530",
   "metadata": {},
   "outputs": [
    {
     "name": "stdout",
     "output_type": "stream",
     "text": [
      "Epoch 1/10\n",
      "938/938 - 156s - loss: 2.3015 - accuracy: 0.1116 - 156s/epoch - 166ms/step\n",
      "Epoch 2/10\n",
      "938/938 - 153s - loss: 2.3013 - accuracy: 0.1124 - 153s/epoch - 163ms/step\n",
      "Epoch 3/10\n",
      "938/938 - 152s - loss: 2.3013 - accuracy: 0.1124 - 152s/epoch - 162ms/step\n",
      "Epoch 4/10\n",
      "938/938 - 156s - loss: 2.3013 - accuracy: 0.1124 - 156s/epoch - 166ms/step\n",
      "Epoch 5/10\n",
      "938/938 - 152s - loss: 2.3013 - accuracy: 0.1124 - 152s/epoch - 163ms/step\n",
      "Epoch 6/10\n",
      "938/938 - 154s - loss: 2.3013 - accuracy: 0.1124 - 154s/epoch - 164ms/step\n",
      "Epoch 7/10\n",
      "938/938 - 152s - loss: 2.3013 - accuracy: 0.1124 - 152s/epoch - 162ms/step\n",
      "Epoch 8/10\n",
      "938/938 - 150s - loss: 2.3013 - accuracy: 0.1124 - 150s/epoch - 160ms/step\n",
      "Epoch 9/10\n",
      "938/938 - 154s - loss: 2.3013 - accuracy: 0.1124 - 154s/epoch - 164ms/step\n",
      "Epoch 10/10\n",
      "938/938 - 157s - loss: 2.3013 - accuracy: 0.1124 - 157s/epoch - 168ms/step\n",
      "157/157 - 6s - loss: 2.3010 - accuracy: 0.1135 - 6s/epoch - 35ms/step\n"
     ]
    },
    {
     "data": {
      "text/plain": [
       "[2.3009729385375977, 0.11349999904632568]"
      ]
     },
     "execution_count": 35,
     "metadata": {},
     "output_type": "execute_result"
    }
   ],
   "source": [
    "# Compiling the Model\n",
    "\n",
    "\n",
    "modelSMR.compile(\n",
    "    loss = keras.losses.SparseCategoricalCrossentropy(from_logits=True),\n",
    "    optimizer = keras.optimizers.Adam(learning_rate=0.001),\n",
    "    metrics=['accuracy']\n",
    ")\n",
    "\n",
    "# Fitting the Model\n",
    "\n",
    "historySMR = modelSMR.fit(x_train, y_train, batch_size = 64, epochs = 10, verbose = 2)\n",
    "\n",
    "\n",
    "# Evaluate the Model\n",
    "\n",
    "modelSMR.evaluate(x_test, y_test, batch_size = 64, verbose = 2)"
   ]
  },
  {
   "cell_type": "code",
   "execution_count": 36,
   "id": "56457381",
   "metadata": {},
   "outputs": [],
   "source": [
    "loss_SMR = historySMR.history['loss']\n",
    "acc_SMR = historySMR.history['accuracy']"
   ]
  },
  {
   "cell_type": "code",
   "execution_count": 37,
   "id": "2ba2b186",
   "metadata": {},
   "outputs": [],
   "source": [
    "## Results Analysis"
   ]
  },
  {
   "cell_type": "code",
   "execution_count": 41,
   "id": "154d59e9",
   "metadata": {},
   "outputs": [
    {
     "data": {
      "image/png": "[encoded data removed]",
      "text/plain": [
       "<Figure size 432x288 with 1 Axes>"
      ]
     },
     "metadata": {
      "needs_background": "light"
     },
     "output_type": "display_data"
    }
   ],
   "source": [
    "# Plotting Accuracy\n",
    "\n",
    "\n",
    "epochs = range(1,11)\n",
    "plt.plot(epochs, acc_base, 'b', label='Base Model')\n",
    "plt.plot(epochs, acc_AF, 'r-', label='Squish in Main')\n",
    "plt.plot(epochs, acc_RAF, 'r--', label='Squish in Recurrent')\n",
    "plt.plot(epochs, acc_R, 'g-', label='ReLU in Main')\n",
    "plt.plot(epochs, acc_RR, 'g--', label='ReLU in Recurrent')\n",
    "plt.plot(epochs, acc_S, 'b-', label='Swish in Main')\n",
    "#plt.plot(epochs, acc_SR, 'b--', label='Swish in Recurrent')\n",
    "#plt.plot(epochs, acc_SM, 'm-', label='SoftMax in Main')\n",
    "#plt.plot(epochs, acc_SM, 'm--', label='SoftMax in Recurrent')\n",
    "plt.title('Accuracy per Epoch')\n",
    "plt.xlabel('Epochs')\n",
    "plt.ylabel('Accuracy')\n",
    "plt.legend()\n",
    "plt.show()"
   ]
  },
  {
   "cell_type": "code",
   "execution_count": 40,
   "id": "32b969f7",
   "metadata": {
    "scrolled": true
   },
   "outputs": [
    {
     "data": {
      "image/png": "[encoded data removed]",
      "text/plain": [
       "<Figure size 432x288 with 1 Axes>"
      ]
     },
     "metadata": {
      "needs_background": "light"
     },
     "output_type": "display_data"
    }
   ],
   "source": [
    "# Plotting Loss\n",
    "\n",
    "\n",
    "epochs = range(1,11)\n",
    "plt.plot(epochs, loss_base, 'b', label='Base Model')\n",
    "plt.plot(epochs, loss_AF, 'r-', label='Squish in Main')\n",
    "plt.plot(epochs, loss_RAF, 'r--', label='Squish in Recurrent')\n",
    "plt.plot(epochs, loss_R, 'g-', label='ReLU in Main')\n",
    "plt.plot(epochs, loss_RR, 'g--', label='ReLU in Recurrent')\n",
    "plt.plot(epochs, loss_S, 'b-', label='Swish in Main')\n",
    "#plt.plot(epochs, loss_SR, 'b--', label='Swish in Recurrent')\n",
    "#plt.plot(epochs, loss_SM, 'm-', label='SoftMax in Main')\n",
    "#plt.plot(epochs, loss_SM, 'm--', label='SoftMax in Recurrent')\n",
    "plt.title('Loss per Epoch')\n",
    "plt.xlabel('Epochs')\n",
    "plt.ylabel('Loss')\n",
    "plt.legend()\n",
    "plt.show()"
   ]
  },
  {
   "cell_type": "code",
   "execution_count": null,
   "id": "326f48e1",
   "metadata": {},
   "outputs": [],
   "source": [
    "### Loss Landscapes"
   ]
  },
  {
   "cell_type": "code",
   "execution_count": null,
   "id": "8b55e2e1",
   "metadata": {},
   "outputs": [],
   "source": []
  },
  {
   "cell_type": "code",
   "execution_count": null,
   "id": "4b43e3c6",
   "metadata": {},
   "outputs": [],
   "source": []
  },
  {
   "cell_type": "code",
   "execution_count": null,
   "id": "06da9bad",
   "metadata": {},
   "outputs": [],
   "source": []
  },
  {
   "cell_type": "code",
   "execution_count": null,
   "id": "566e66e4",
   "metadata": {},
   "outputs": [],
   "source": []
  }
 ],
 "metadata": {
  "kernelspec": {
   "display_name": "Python 3 (ipykernel)",
   "language": "python",
   "name": "python3"
  },
  "language_info": {
   "codemirror_mode": {
    "name": "ipython",
    "version": 3
   },
   "file_extension": ".py",
   "mimetype": "text/x-python",
   "name": "python",
   "nbconvert_exporter": "python",
   "pygments_lexer": "ipython3",
   "version": "3.9.7"
  }
 },
 "nbformat": 4,
 "nbformat_minor": 5
}
